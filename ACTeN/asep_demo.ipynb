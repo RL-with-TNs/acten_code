{
 "cells": [
  {
   "cell_type": "code",
   "execution_count": 1,
   "metadata": {},
   "outputs": [
    {
     "name": "stderr",
     "output_type": "stream",
     "text": [
      "WARNING:absl:No GPU/TPU found, falling back to CPU. (Set TF_CPP_MIN_LOG_LEVEL=0 and rerun for more info.)\n"
     ]
    }
   ],
   "source": [
    "import os\n",
    "import sys\n",
    "import h5py\n",
    "\n",
    "### Problem and ACTeN code imports ###\n",
    "source_path = os.path.join(\"src/environments/\")\n",
    "sys.path.insert(0,source_path)\n",
    "import asep_model as am\n",
    "source_path = os.path.join(\"src/approximations/\")\n",
    "sys.path.insert(0,source_path)\n",
    "import value_mps as vm\n",
    "import policy_mps_asep as pm\n",
    "source_path = os.path.join(\"src/\")\n",
    "sys.path.insert(0,source_path)\n",
    "import actor_critic as ac\n",
    "import observations as obs\n",
    "import evaluate_policy as evaluation\n",
    "\n",
    "### JAX imports ###\n",
    "import jax.numpy as jnp\n",
    "from jax import jit\n",
    "from jax import random\n",
    "import numpy as np\n",
    "import jax.config as jax_config\n",
    "jax_config.update(\"jax_enable_x64\", True)\n",
    "jax_config.update(\"jax_debug_nans\", True)\n",
    "\n",
    "## Plotting imports ##\n",
    "import matplotlib.pyplot as plt"
   ]
  },
  {
   "cell_type": "code",
   "execution_count": 2,
   "metadata": {},
   "outputs": [],
   "source": [
    "key = random.PRNGKey(123)\n",
    "SITES = 8\n",
    "BIAS = -2\n",
    "VALUE_BOND_DIM = 4\n",
    "POLICY_BOND_DIM = 16\n",
    "P_VAL = 0.1\n",
    "environment_args = dict(\n",
    "\tL = SITES,\n",
    "\ts = BIAS,\n",
    "\tp = P_VAL,\n",
    "\tN = int(SITES/2),\n",
    "\tq = 1 - P_VAL,\n",
    ")\n",
    "key, subkey = random.split(key)\n",
    "state = random.randint(subkey, (SITES,), 0, 2)\n",
    "key, subkey = random.split(key)\n",
    "value_params = random.normal(subkey, (2, VALUE_BOND_DIM, VALUE_BOND_DIM))*0.45\n",
    "key, subkey = random.split(key)\n",
    "policy_params = random.normal(subkey, (2, 2, POLICY_BOND_DIM, POLICY_BOND_DIM))*0.2\n",
    "key, subkey = random.split(key)\n"
   ]
  },
  {
   "cell_type": "code",
   "execution_count": 3,
   "metadata": {},
   "outputs": [
    {
     "name": "stderr",
     "output_type": "stream",
     "text": [
      "/home/ed/anaconda3/envs/coax_rl/lib/python3.10/site-packages/jax/_src/random.py:386: FutureWarning: jax.random.shuffle is deprecated and will be removed in a future release. Use jax.random.permutation with independent=True.\n",
      "  warnings.warn(msg, FutureWarning)\n"
     ]
    }
   ],
   "source": [
    "initial_state = jnp.array([0]*int(SITES/2) + [1]*int(SITES/2)) #half filling\n",
    "key, subkey = random.split(key)\n",
    "initial_state = random.shuffle(subkey, initial_state, axis=0)"
   ]
  },
  {
   "cell_type": "code",
   "execution_count": 4,
   "metadata": {},
   "outputs": [],
   "source": [
    "obs_func = obs.observation_vec_to_func(\n",
    "\t[obs.average_reward_observation,\n",
    "\t am.current_observation, \n",
    "\t am.kl_divergence_observation],\n",
    "\t[0, 0.0003, 0.0003]\n",
    ")\n",
    "initial_av_rew = 0.0\n",
    "initial_obs = jnp.array([initial_av_rew, 0.0, 0.0])\n",
    "LR_PI = 1e-2\n",
    "LR_VF = 1e-3\n",
    "LR_R = 1e-3\n",
    "alg_step = ac.init_actor_critic(\n",
    "\tam.reward_func,\n",
    "\tam.step,\n",
    "\tenvironment_args,\n",
    "\tvm.value,\n",
    "\tLR_PI,\n",
    "\tpm.policy,\n",
    "\tLR_VF,\n",
    "\tLR_R,\n",
    "\tobs_func\n",
    ")"
   ]
  },
  {
   "cell_type": "code",
   "execution_count": 5,
   "metadata": {},
   "outputs": [],
   "source": [
    "train = jit(ac.train, static_argnums=(4,5,7))"
   ]
  },
  {
   "cell_type": "code",
   "execution_count": 6,
   "metadata": {},
   "outputs": [],
   "source": [
    "number_of_saves = 1000\n",
    "save_frequence = 100\n",
    "total_steps = number_of_saves*save_frequence"
   ]
  },
  {
   "cell_type": "code",
   "execution_count": 7,
   "metadata": {},
   "outputs": [],
   "source": [
    "final_state, _, _, policy_params_opt, _, observations = train(\n",
    "    initial_state, key, value_params, policy_params, alg_step, \n",
    "    number_of_saves, initial_obs, save_frequence, initial_av_rew)"
   ]
  },
  {
   "cell_type": "code",
   "execution_count": 8,
   "metadata": {},
   "outputs": [],
   "source": [
    "EXACT_DATA_PATH = os.path.join(\"..\", \"exact_diagonalization\",\"periodic_asep_ED_-3.0_to_3.0.hdf5\")\n",
    "\n",
    "with h5py.File(EXACT_DATA_PATH, \"r\") as f:\n",
    "\n",
    "    group_keys = list(f.keys())\n",
    "    \n",
    "    # Get the data\n",
    "    biases_exact = np.array(list(f[group_keys[0]]))\n",
    "    biases_exact = biases_exact[-1::-1]\n",
    "    data_exact = np.array(list(f[group_keys[1]]))\n",
    "    lattice_sizes_exact = np.array(list(f[group_keys[2]]))\n",
    "    q_vals = np.array(list(f[group_keys[3]]))"
   ]
  },
  {
   "cell_type": "code",
   "execution_count": 9,
   "metadata": {},
   "outputs": [],
   "source": [
    "bias_idx = list(biases_exact).index(BIAS)\n",
    "lattice_idx = list(lattice_sizes_exact).index(SITES)\n",
    "q_idx = list(q_vals).index(1-P_VAL)"
   ]
  },
  {
   "cell_type": "code",
   "execution_count": 10,
   "metadata": {},
   "outputs": [
    {
     "data": {
      "text/plain": [
       "<matplotlib.collections.LineCollection at 0x7f0e5027e2f0>"
      ]
     },
     "execution_count": 10,
     "metadata": {},
     "output_type": "execute_result"
    },
    {
     "data": {
      "image/png": "[encoded data removed]",
      "text/plain": [
       "<Figure size 640x480 with 1 Axes>"
      ]
     },
     "metadata": {},
     "output_type": "display_data"
    }
   ],
   "source": [
    "# Learning Curve\n",
    "fig_lcs = plt.figure()\n",
    "plt.plot(observations[:,0], \"r-\")\n",
    "plt.hlines(data_exact[q_idx,bias_idx,lattice_idx], 0, len(observations[:,0]))"
   ]
  },
  {
   "cell_type": "code",
   "execution_count": 11,
   "metadata": {},
   "outputs": [
    {
     "data": {
      "text/plain": [
       "<matplotlib.legend.Legend at 0x7f0e3078b730>"
      ]
     },
     "execution_count": 11,
     "metadata": {},
     "output_type": "execute_result"
    },
    {
     "data": {
      "image/png": "[encoded data removed]",
      "text/plain": [
       "<Figure size 600x400 with 1 Axes>"
      ]
     },
     "metadata": {},
     "output_type": "display_data"
    }
   ],
   "source": [
    "# Final Training Estimate\n",
    "fig = plt.figure(figsize=(6,4))\n",
    "plt.plot(biases_exact, data_exact[q_idx,:,lattice_idx], label=f\"L = {lattice_sizes_exact[lattice_idx]}. p = {1-q_vals[q_idx]:.2f}\")\n",
    "plt.plot([BIAS],[observations[-1,0]], \"rs\")\n",
    "plt.xlabel(\"Bias\")\n",
    "plt.ylabel(\"SCGF\")\n",
    "plt.legend()"
   ]
  },
  {
   "cell_type": "code",
   "execution_count": 12,
   "metadata": {},
   "outputs": [],
   "source": [
    "def obs_func_evaluation(\n",
    "    observation_state, step,\n",
    "    prior_state, policy_params, average_reward_eval,\n",
    "    log_prob, action, state, reward,\n",
    "    environment_args_eval\n",
    "    ):\n",
    "    \"\"\"Defines the obs_func for evaluation\n",
    "    \"\"\"\n",
    "    learning_rate = 1 # when = 1, no averaging, just return the ob\n",
    "    pol_grad = 0.0\n",
    "    val_grad = 0.0\n",
    "    prior_value = 0.0\n",
    "    current_value = 0.0\n",
    "    td_error = 0.0\n",
    "    value_params = 0.0\n",
    "\n",
    "    params = (step, learning_rate, prior_state, policy_params, value_params, average_reward_eval, log_prob,\n",
    "    action, state, pol_grad, val_grad, prior_value,\n",
    "    current_value, reward, td_error,\n",
    "    environment_args_eval)\n",
    "\n",
    "    observation_state = observation_state.at[0].set(reward)\n",
    "    observation_state = observation_state.at[1].set(am.activity_observation(observation_state[1], *params))\n",
    "    observation_state = observation_state.at[2].set(am.kl_divergence_observation(observation_state[2], *params))\n",
    "    observation_state = observation_state.at[3].set(am.current_observation(observation_state[3], *params))\n",
    "    return observation_state"
   ]
  },
  {
   "cell_type": "code",
   "execution_count": 13,
   "metadata": {},
   "outputs": [],
   "source": [
    "NUM_EVAL_STEPS = 100000\n",
    "\n",
    "eval_step = evaluation.init_evaluate(am.reward_func,\n",
    "        am.step,\n",
    "        environment_args,\n",
    "        pm.policy,\n",
    "        obs_func_evaluation\n",
    "        )\n",
    "\n",
    "initial_av_rew_eval  = 0.0\n",
    "initial_obs_evaluation = jnp.array([0.0, 0.0, 0.0, 0.0])\n",
    "\n",
    "eval_func = jit(lambda params, initial_state: evaluation.evaluate(params,\n",
    "    initial_state, key, eval_step,\n",
    "    NUM_EVAL_STEPS, initial_obs_evaluation, 1, initial_av_rew_eval))"
   ]
  },
  {
   "cell_type": "code",
   "execution_count": 14,
   "metadata": {},
   "outputs": [],
   "source": [
    "_, _, _, eval_average_reward, eval_observations = eval_func(policy_params_opt, final_state)"
   ]
  },
  {
   "cell_type": "code",
   "execution_count": 15,
   "metadata": {},
   "outputs": [
    {
     "data": {
      "text/plain": [
       "[<matplotlib.lines.Line2D at 0x7f0e5048f280>]"
      ]
     },
     "execution_count": 15,
     "metadata": {},
     "output_type": "execute_result"
    },
    {
     "data": {
      "image/png": "[encoded data removed]",
      "text/plain": [
       "<Figure size 640x480 with 1 Axes>"
      ]
     },
     "metadata": {},
     "output_type": "display_data"
    }
   ],
   "source": [
    "# Evaluated Optimal Policy\n",
    "fig_eval = plt.figure()\n",
    "plt.hlines(data_exact[q_idx,bias_idx,lattice_idx], 0, NUM_EVAL_STEPS)\n",
    "plt.plot(np.cumsum(eval_observations[:,0])/np.arange(1,NUM_EVAL_STEPS+1), \"r-\")"
   ]
  },
  {
   "cell_type": "code",
   "execution_count": 20,
   "metadata": {},
   "outputs": [],
   "source": [
    "def obs_func_trajectory(\n",
    "    observation_state, step,\n",
    "    prior_state, policy_params, average_reward_eval,\n",
    "    log_prob, action, state, reward,\n",
    "    environment_args_eval\n",
    "    ):\n",
    "    learning_rate = 1 # when = 1, no averaging, just return the ob\n",
    "    pol_grad = 0.0\n",
    "    val_grad = 0.0\n",
    "    prior_value = 0.0\n",
    "    current_value = 0.0\n",
    "    td_error = 0.0\n",
    "    value_params = 0.0\n",
    "\n",
    "    params = (step, learning_rate, prior_state, policy_params, value_params, average_reward_eval, log_prob,\n",
    "    action, state, pol_grad, val_grad, prior_value,\n",
    "    current_value, reward, td_error,\n",
    "    environment_args_eval)\n",
    "\n",
    "    observation_state = observation_state.at[:].set(state)\n",
    "    return observation_state"
   ]
  },
  {
   "cell_type": "code",
   "execution_count": 34,
   "metadata": {},
   "outputs": [],
   "source": [
    "NUM_TRAJ_STEPS = 10000\n",
    "\n",
    "traj_step = evaluation.init_evaluate(am.reward_func,\n",
    "        am.step,\n",
    "        environment_args,\n",
    "        pm.policy,\n",
    "        obs_func_trajectory\n",
    "        )\n",
    "\n",
    "initial_av_rew_traj  = 0.0\n",
    "initial_obs_traj = jnp.array([0.0]*SITES)\n",
    "\n",
    "traj_func = jit(lambda params, initial_state: evaluation.evaluate(params,\n",
    "    initial_state, key, traj_step,\n",
    "    NUM_TRAJ_STEPS, initial_obs_traj, 1, initial_av_rew_traj))"
   ]
  },
  {
   "cell_type": "code",
   "execution_count": 35,
   "metadata": {},
   "outputs": [],
   "source": [
    "_, _, _, _, trajectory = traj_func(policy_params_opt, final_state)"
   ]
  },
  {
   "cell_type": "code",
   "execution_count": 36,
   "metadata": {},
   "outputs": [
    {
     "data": {
      "text/plain": [
       "Text(0.5, 1.0, '$\\\\lambda = -2$')"
      ]
     },
     "execution_count": 36,
     "metadata": {},
     "output_type": "execute_result"
    },
    {
     "data": {
      "image/png": "[encoded data removed]",
      "text/plain": [
       "<Figure size 640x480 with 1 Axes>"
      ]
     },
     "metadata": {},
     "output_type": "display_data"
    }
   ],
   "source": [
    "fig_traj, ax = plt.subplots(1,1)\n",
    "y = np.arange(0,SITES)\n",
    "x = np.arange(1,NUM_TRAJ_STEPS+1)\n",
    "xmesh, ymesh = np.meshgrid(x, y)\n",
    "fontsize=20\n",
    "\n",
    "\n",
    "ax.pcolormesh(xmesh, ymesh, trajectory.T, cmap=\"gray_r\")\n",
    "ax.tick_params(axis='both', which='major', labelsize=fontsize)\n",
    "ax.set_ylabel(r\"$x$\", fontsize=fontsize)\n",
    "ax.set_xlabel(r\"$t$\", fontsize=fontsize)\n",
    "ax.set_title(rf\"$\\lambda = {BIAS}$\", fontsize=fontsize)\n"
   ]
  }
 ],
 "metadata": {
  "kernelspec": {
   "display_name": "Python 3.8.2 ('scipy')",
   "language": "python",
   "name": "python3"
  },
  "language_info": {
   "codemirror_mode": {
    "name": "ipython",
    "version": 3
   },
   "file_extension": ".py",
   "mimetype": "text/x-python",
   "name": "python",
   "nbconvert_exporter": "python",
   "pygments_lexer": "ipython3",
   "version": "3.10.6"
  },
  "orig_nbformat": 4,
  "vscode": {
   "interpreter": {
    "hash": "3e33917057e1ca6039192eee914ba97b20baf8be1a7ca2d20c8eaac302749316"
   }
  }
 },
 "nbformat": 4,
 "nbformat_minor": 2
}
